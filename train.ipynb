{
 "cells": [
  {
   "cell_type": "code",
   "execution_count": 1,
   "metadata": {},
   "outputs": [],
   "source": [
    "from model import *\n",
    "from utils import *"
   ]
  },
  {
   "cell_type": "code",
   "execution_count": 2,
   "metadata": {},
   "outputs": [],
   "source": [
    "set_seed(37)"
   ]
  },
  {
   "cell_type": "code",
   "execution_count": 3,
   "metadata": {},
   "outputs": [],
   "source": [
    "METADATA = \"./metadata.csv\" # meta数据文件\n",
    "BATCH_SIZE = 32 # 批大小\n",
    "NUM_WORKERS = 8 # 并行加载数\n",
    "EPOCHS = 50\n",
    "MODELNAME = \"./model.pt\""
   ]
  },
  {
   "cell_type": "markdown",
   "metadata": {},
   "source": [
    "> 整体流程"
   ]
  },
  {
   "cell_type": "code",
   "execution_count": 4,
   "metadata": {},
   "outputs": [
    {
     "name": "stdout",
     "output_type": "stream",
     "text": [
      "(1000, 7)\n"
     ]
    }
   ],
   "source": [
    "# 加载meta数据\n",
    "df = pd.read_csv(METADATA)\n",
    "print(df.shape)"
   ]
  },
  {
   "cell_type": "code",
   "execution_count": 5,
   "metadata": {},
   "outputs": [
    {
     "name": "stdout",
     "output_type": "stream",
     "text": [
      "(700, 7) (300, 7)\n"
     ]
    }
   ],
   "source": [
    "# 划分训练集和测试集\n",
    "train_df = df.sample(frac=0.7)\n",
    "test_df = df[~df.index.isin(train_df.index)]\n",
    "print(train_df.shape,test_df.shape)"
   ]
  },
  {
   "cell_type": "code",
   "execution_count": 6,
   "metadata": {},
   "outputs": [
    {
     "name": "stdout",
     "output_type": "stream",
     "text": [
      "torch.Size([32, 1, 256, 256])\n"
     ]
    }
   ],
   "source": [
    "# 数据\n",
    "train_ds = ImageDS(train_df,transform=data_transforms,train_val=\"train\")\n",
    "val_ds = ImageDS(test_df,transform=data_transforms,train_val=\"val\")\n",
    "\n",
    "# 数据加载器\n",
    "train_dl = DataLoader(train_ds, batch_size=BATCH_SIZE, num_workers=NUM_WORKERS,shuffle=True)\n",
    "val_dl = DataLoader(val_ds, batch_size=BATCH_SIZE, num_workers=NUM_WORKERS,shuffle=False)\n",
    "\n",
    "# 验证\n",
    "data = next(iter(train_dl))\n",
    "print(data[0].shape)\n"
   ]
  },
  {
   "cell_type": "code",
   "execution_count": 7,
   "metadata": {},
   "outputs": [
    {
     "data": {
      "text/plain": [
       "device(type='cuda', index=0)"
      ]
     },
     "execution_count": 7,
     "metadata": {},
     "output_type": "execute_result"
    }
   ],
   "source": [
    "# 模型\n",
    "model = MBResNet34()\n",
    "\n",
    "# GPU\n",
    "torch.cuda.empty_cache()\n",
    "device = torch.device(\"cuda:0\" if torch.cuda.is_available() else \"cpu\")\n",
    "model = model.to(device)\n",
    "# Check that it is on Cuda\n",
    "next(model.parameters()).device\n"
   ]
  },
  {
   "cell_type": "code",
   "execution_count": 8,
   "metadata": {},
   "outputs": [
    {
     "ename": "NameError",
     "evalue": "name 'device' is not defined",
     "output_type": "error",
     "traceback": [
      "\u001b[0;31m---------------------------------------------------------------------------\u001b[0m",
      "\u001b[0;31mNameError\u001b[0m                                 Traceback (most recent call last)",
      "Cell \u001b[0;32mIn[8], line 2\u001b[0m\n\u001b[1;32m      1\u001b[0m \u001b[39m# 训练\u001b[39;00m\n\u001b[0;32m----> 2\u001b[0m train_losses, test_losses \u001b[39m=\u001b[39m training(model,train_dl,val_dl,EPOCHS)\n",
      "File \u001b[0;32m~/ycli/CTR/utils.py:96\u001b[0m, in \u001b[0;36mtraining\u001b[0;34m(model, train_dl, val_dl, num_epochs)\u001b[0m\n\u001b[1;32m     93\u001b[0m running_loss \u001b[39m=\u001b[39m \u001b[39m0.0\u001b[39m\n\u001b[1;32m     95\u001b[0m \u001b[39mfor\u001b[39;00m i, data \u001b[39min\u001b[39;00m \u001b[39menumerate\u001b[39m(train_dl):\n\u001b[0;32m---> 96\u001b[0m     inputs, la, lb, lc \u001b[39m=\u001b[39m data[\u001b[39m0\u001b[39m]\u001b[39m.\u001b[39mto(device), data[\u001b[39m1\u001b[39m]\u001b[39m.\u001b[39mto(\n\u001b[1;32m     97\u001b[0m         device), data[\u001b[39m2\u001b[39m]\u001b[39m.\u001b[39mto(device), data[\u001b[39m3\u001b[39m]\u001b[39m.\u001b[39mto(device)\n\u001b[1;32m     99\u001b[0m     optimizer\u001b[39m.\u001b[39mzero_grad()\n\u001b[1;32m    100\u001b[0m     a, b, c \u001b[39m=\u001b[39m model(inputs)\n",
      "\u001b[0;31mNameError\u001b[0m: name 'device' is not defined"
     ]
    }
   ],
   "source": [
    "# 训练\n",
    "train_losses, test_losses = training(model,train_dl,val_dl,EPOCHS,device)\n"
   ]
  },
  {
   "cell_type": "code",
   "execution_count": null,
   "metadata": {},
   "outputs": [],
   "source": [
    "\n",
    "# 绘图\n",
    "result_plot(train_losses, test_losses)\n"
   ]
  },
  {
   "cell_type": "code",
   "execution_count": null,
   "metadata": {},
   "outputs": [],
   "source": [
    "\n",
    "# 保存模型\n",
    "torch.save(model,MODELNAME)\n",
    "print(\"模型保存成功！\")"
   ]
  },
  {
   "cell_type": "code",
   "execution_count": null,
   "metadata": {},
   "outputs": [],
   "source": []
  }
 ],
 "metadata": {
  "kernelspec": {
   "display_name": "CTR",
   "language": "python",
   "name": "python3"
  },
  "language_info": {
   "codemirror_mode": {
    "name": "ipython",
    "version": 3
   },
   "file_extension": ".py",
   "mimetype": "text/x-python",
   "name": "python",
   "nbconvert_exporter": "python",
   "pygments_lexer": "ipython3",
   "version": "3.9.16"
  },
  "orig_nbformat": 4
 },
 "nbformat": 4,
 "nbformat_minor": 2
}
