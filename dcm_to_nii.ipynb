{
 "cells": [
  {
   "cell_type": "code",
   "execution_count": 42,
   "metadata": {},
   "outputs": [],
   "source": [
    "import os\n",
    "import pydicom\n",
    "import numpy as np\n",
    "import SimpleITK as sitk"
   ]
  },
  {
   "cell_type": "markdown",
   "metadata": {},
   "source": [
    "## 获取同一ct的dcm文件数量"
   ]
  },
  {
   "cell_type": "code",
   "execution_count": 16,
   "metadata": {},
   "outputs": [],
   "source": [
    "def get_nii(path,tmp=18):\n",
    "    a = os.listdir(path)\n",
    "    b = {}\n",
    "    for i in a:\n",
    "        if i[:tmp] in b:\n",
    "            b[i[:tmp]] += 1\n",
    "        else:\n",
    "            b[i[:tmp]] = 1\n",
    "    return b"
   ]
  },
  {
   "cell_type": "code",
   "execution_count": 17,
   "metadata": {},
   "outputs": [],
   "source": [
    "jiang = get_nii(\"./data/JIANG_LIN_QUAN-CT0931273G/\",18)"
   ]
  },
  {
   "cell_type": "code",
   "execution_count": 18,
   "metadata": {},
   "outputs": [],
   "source": [
    "lin = get_nii(\"./data/LIN_JIU_WANG-CT1152288E/\",len(\"LIN_JIU_WANG_01\"))"
   ]
  },
  {
   "cell_type": "code",
   "execution_count": 20,
   "metadata": {},
   "outputs": [],
   "source": [
    "linq = get_nii(\"./data/LinQingNian-BHSZ1322B/\",len(\"LinQingNian_01\"))"
   ]
  },
  {
   "cell_type": "code",
   "execution_count": 22,
   "metadata": {},
   "outputs": [],
   "source": [
    "yan = get_nii(\"./data/YAN_ZI_BI-CT1083097E/\",len(\"YAN_ZI_BI_01\"))"
   ]
  },
  {
   "cell_type": "code",
   "execution_count": 24,
   "metadata": {},
   "outputs": [],
   "source": [
    "zhang = get_nii(\"./data/ZHANG_AI_XIANG-CT1112240C/\",len(\"ZHANG_AI_XIANG_01\"))"
   ]
  },
  {
   "cell_type": "code",
   "execution_count": 38,
   "metadata": {},
   "outputs": [],
   "source": [
    "d = {}\n",
    "d.update(jiang)\n",
    "d.update(lin)\n",
    "d.update(linq)\n",
    "d.update(yan)\n",
    "d.update(zhang)"
   ]
  },
  {
   "cell_type": "code",
   "execution_count": 39,
   "metadata": {},
   "outputs": [
    {
     "data": {
      "text/plain": [
       "{'JIANG_LIN_QUAN_204': 121,\n",
       " 'JIANG_LIN_QUAN_202': 275,\n",
       " 'JIANG_LIN_QUAN_201': 55,\n",
       " 'JIANG_LIN_QUAN_203': 55,\n",
       " 'JIANG_LIN_QUAN_301': 4,\n",
       " 'JIANG_LIN_QUAN_100': 1,\n",
       " 'LIN_JIU_WANG_30': 318,\n",
       " 'LIN_JIU_WANG_02': 92,\n",
       " 'LIN_JIU_WANG_01': 1,\n",
       " 'LIN_JIU_WANG_99': 1,\n",
       " 'LinQingNian_02': 47,\n",
       " 'LinQingNian_03': 332,\n",
       " 'LinQingNian_04': 58,\n",
       " 'LinQingNian_01': 2,\n",
       " 'LinQingNian_50': 1,\n",
       " 'YAN_ZI_BI_04': 236,\n",
       " 'YAN_ZI_BI_03': 41,\n",
       " 'YAN_ZI_BI_02': 41,\n",
       " 'YAN_ZI_BI_05': 94,\n",
       " 'YAN_ZI_BI_01': 1,\n",
       " 'YAN_ZI_BI_90': 2,\n",
       " 'ZHANG_AI_XIANG_04': 257,\n",
       " 'ZHANG_AI_XIANG_06': 97,\n",
       " 'ZHANG_AI_XIANG_05': 43,\n",
       " 'ZHANG_AI_XIANG_03': 44,\n",
       " 'ZHANG_AI_XIANG_90': 2,\n",
       " 'ZHANG_AI_XIANG_01': 1}"
      ]
     },
     "execution_count": 39,
     "metadata": {},
     "output_type": "execute_result"
    }
   ],
   "source": [
    "d"
   ]
  },
  {
   "cell_type": "code",
   "execution_count": 36,
   "metadata": {},
   "outputs": [],
   "source": [
    "data_list = os.listdir(\"./data/\")\n"
   ]
  },
  {
   "cell_type": "code",
   "execution_count": 40,
   "metadata": {},
   "outputs": [],
   "source": [
    "# filter less than 10 dcm and copy to dataset\n",
    "for key,values in d.items():\n",
    "    if values > 10:\n",
    "        path = os.path.join(\"./dataset/\",key)\n",
    "        if not os.path.exists(path):\n",
    "            os.mkdir(path)\n",
    "        for i in data_list:\n",
    "            if key[:6] in i:\n",
    "                data_path = os.path.join(\"./data/\",i)\n",
    "                cmd = f\"cp -f {data_path}/{key}* {path}\"\n",
    "                os.system(cmd)"
   ]
  },
  {
   "cell_type": "markdown",
   "metadata": {},
   "source": [
    "## 生成3维nii图像文件"
   ]
  },
  {
   "cell_type": "code",
   "execution_count": 46,
   "metadata": {},
   "outputs": [],
   "source": [
    "def gen_nii(dataset_path=\"./dataset/\",nii_path=\"./nii\"):\n",
    "    dcm_list = os.listdir(dataset_path)\n",
    "    for dcm in dcm_list:\n",
    "        # dcm path\n",
    "        dcm_path = os.path.join(dataset_path,dcm)\n",
    "\n",
    "        # Ensure output directory exists\n",
    "        os.makedirs(nii_path, exist_ok=True)\n",
    "\n",
    "        # Load DICOM files\n",
    "        dicom_files = sorted([os.path.join(dcm_path, filename) for filename in os.listdir(dcm_path) if filename.endswith(\".dcm\")])\n",
    "        dicom_slices = [pydicom.dcmread(file) for file in dicom_files]\n",
    "\n",
    "        # Sort slices by slice position (z-coordinate)\n",
    "        dicom_slices.sort(key=lambda x: float(x.ImagePositionPatient[2]))\n",
    "\n",
    "        # Extract pixel data and convert to a 3D numpy array\n",
    "        slice_shape = dicom_slices[0].pixel_array.shape\n",
    "        ct_volume = np.zeros((len(dicom_slices), slice_shape[0], slice_shape[1]), dtype=np.int16)\n",
    "\n",
    "        for i, ds in enumerate(dicom_slices):\n",
    "            ct_volume[i, :, :] = ds.pixel_array\n",
    "\n",
    "        # Convert pixel spacing to a list of floats\n",
    "        pixel_spacing = [float(dicom_slices[0].PixelSpacing[0]), float(dicom_slices[0].PixelSpacing[1]), float(dicom_slices[0].SliceThickness)]\n",
    "\n",
    "        # Create SimpleITK image\n",
    "        ct_image = sitk.GetImageFromArray(ct_volume)\n",
    "        ct_image.SetSpacing(pixel_spacing)\n",
    "\n",
    "        # Save as .nii file\n",
    "        nii_filename = os.path.join(nii_path, f\"{dcm}.nii\")\n",
    "        sitk.WriteImage(ct_image, nii_filename)\n",
    "\n",
    "        print(f\"CT image saved as {nii_filename}, Shape is \",ct_volume.shape)"
   ]
  },
  {
   "cell_type": "code",
   "execution_count": 47,
   "metadata": {},
   "outputs": [
    {
     "name": "stdout",
     "output_type": "stream",
     "text": [
      "CT image saved as ./nii/YAN_ZI_BI_05.nii, Shape is  (94, 512, 512)\n",
      "CT image saved as ./nii/LIN_JIU_WANG_02.nii, Shape is  (92, 512, 512)\n",
      "CT image saved as ./nii/LinQingNian_02.nii, Shape is  (47, 512, 512)\n",
      "CT image saved as ./nii/LinQingNian_03.nii, Shape is  (332, 512, 512)\n",
      "CT image saved as ./nii/YAN_ZI_BI_04.nii, Shape is  (236, 512, 512)\n",
      "CT image saved as ./nii/ZHANG_AI_XIANG_06.nii, Shape is  (97, 512, 512)\n",
      "CT image saved as ./nii/JIANG_LIN_QUAN_202.nii, Shape is  (275, 512, 512)\n",
      "CT image saved as ./nii/JIANG_LIN_QUAN_204.nii, Shape is  (121, 512, 512)\n",
      "CT image saved as ./nii/ZHANG_AI_XIANG_05.nii, Shape is  (43, 512, 512)\n",
      "CT image saved as ./nii/YAN_ZI_BI_02.nii, Shape is  (41, 512, 512)\n",
      "CT image saved as ./nii/JIANG_LIN_QUAN_201.nii, Shape is  (55, 512, 512)\n",
      "CT image saved as ./nii/ZHANG_AI_XIANG_03.nii, Shape is  (44, 512, 512)\n",
      "CT image saved as ./nii/LinQingNian_04.nii, Shape is  (58, 512, 512)\n",
      "CT image saved as ./nii/ZHANG_AI_XIANG_04.nii, Shape is  (257, 512, 512)\n",
      "CT image saved as ./nii/LIN_JIU_WANG_30.nii, Shape is  (318, 508, 508)\n",
      "CT image saved as ./nii/YAN_ZI_BI_03.nii, Shape is  (41, 512, 512)\n",
      "CT image saved as ./nii/JIANG_LIN_QUAN_203.nii, Shape is  (55, 512, 512)\n"
     ]
    }
   ],
   "source": [
    "gen_nii()"
   ]
  },
  {
   "cell_type": "markdown",
   "metadata": {},
   "source": []
  },
  {
   "cell_type": "markdown",
   "metadata": {},
   "source": [
    "## 利用nii文件生成drr图像\n",
    "- 利用ctdrr程序"
   ]
  },
  {
   "cell_type": "code",
   "execution_count": null,
   "metadata": {},
   "outputs": [],
   "source": [
    "x = np.lins"
   ]
  },
  {
   "cell_type": "code",
   "execution_count": null,
   "metadata": {},
   "outputs": [],
   "source": []
  }
 ],
 "metadata": {
  "kernelspec": {
   "display_name": "CTR",
   "language": "python",
   "name": "python3"
  },
  "language_info": {
   "codemirror_mode": {
    "name": "ipython",
    "version": 3
   },
   "file_extension": ".py",
   "mimetype": "text/x-python",
   "name": "python",
   "nbconvert_exporter": "python",
   "pygments_lexer": "ipython3",
   "version": "3.9.16"
  },
  "orig_nbformat": 4
 },
 "nbformat": 4,
 "nbformat_minor": 2
}
